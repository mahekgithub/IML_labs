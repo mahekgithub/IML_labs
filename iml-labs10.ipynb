{
 "cells": [
  {
   "cell_type": "code",
   "execution_count": 1,
   "id": "fb18cfc9",
   "metadata": {
    "_cell_guid": "b1076dfc-b9ad-4769-8c92-a6c4dae69d19",
    "_uuid": "8f2839f25d086af736a60e9eeb907d3b93b6e0e5",
    "execution": {
     "iopub.execute_input": "2023-10-06T06:44:04.837136Z",
     "iopub.status.busy": "2023-10-06T06:44:04.836596Z",
     "iopub.status.idle": "2023-10-06T06:44:05.177683Z",
     "shell.execute_reply": "2023-10-06T06:44:05.176624Z"
    },
    "papermill": {
     "duration": 0.346252,
     "end_time": "2023-10-06T06:44:05.179801",
     "exception": false,
     "start_time": "2023-10-06T06:44:04.833549",
     "status": "completed"
    },
    "tags": []
   },
   "outputs": [
    {
     "name": "stdout",
     "output_type": "stream",
     "text": [
      "World alcohol consumption sample data:\n",
      "         Date      Symbol Series  Prev Close   Open   High    Low   Last  \\\n",
      "0  2000-01-03  ASIANPAINT     EQ      361.20  370.0  390.0  370.0  385.0   \n",
      "1  2000-01-04  ASIANPAINT     EQ      381.65  380.0  392.0  375.0  390.0   \n",
      "2  2000-01-05  ASIANPAINT     EQ      385.55  371.5  390.0  371.5  383.0   \n",
      "3  2000-01-06  ASIANPAINT     EQ      383.00  384.9  384.9  374.5  375.1   \n",
      "4  2000-01-07  ASIANPAINT     EQ      377.50  376.0  390.0  370.0  389.0   \n",
      "\n",
      "    Close    VWAP  Volume      Turnover  Trades  Deliverable Volume  \\\n",
      "0  381.65  380.54    3318  1.262617e+11     NaN                 NaN   \n",
      "1  385.55  383.50    4818  1.847699e+11     NaN                 NaN   \n",
      "2  383.00  379.81    2628  9.981384e+10     NaN                 NaN   \n",
      "3  377.50  379.88    3354  1.274114e+11     NaN                 NaN   \n",
      "4  385.70  383.38    9589  3.676275e+11     NaN                 NaN   \n",
      "\n",
      "   %Deliverble  \n",
      "0          NaN  \n",
      "1          NaN  \n",
      "2          NaN  \n",
      "3          NaN  \n",
      "4          NaN  \n",
      "\n",
      "Missing values:\n",
      "       Date  Symbol  Series  Prev Close   Open   High    Low   Last  Close  \\\n",
      "0     False   False   False       False  False  False  False  False  False   \n",
      "1     False   False   False       False  False  False  False  False  False   \n",
      "2     False   False   False       False  False  False  False  False  False   \n",
      "3     False   False   False       False  False  False  False  False  False   \n",
      "4     False   False   False       False  False  False  False  False  False   \n",
      "...     ...     ...     ...         ...    ...    ...    ...    ...    ...   \n",
      "5301  False   False   False       False  False  False  False  False  False   \n",
      "5302  False   False   False       False  False  False  False  False  False   \n",
      "5303  False   False   False       False  False  False  False  False  False   \n",
      "5304  False   False   False       False  False  False  False  False  False   \n",
      "5305  False   False   False       False  False  False  False  False  False   \n",
      "\n",
      "       VWAP  Volume  Turnover  Trades  Deliverable Volume  %Deliverble  \n",
      "0     False   False     False    True                True         True  \n",
      "1     False   False     False    True                True         True  \n",
      "2     False   False     False    True                True         True  \n",
      "3     False   False     False    True                True         True  \n",
      "4     False   False     False    True                True         True  \n",
      "...     ...     ...       ...     ...                 ...          ...  \n",
      "5301  False   False     False   False               False        False  \n",
      "5302  False   False     False   False               False        False  \n",
      "5303  False   False     False   False               False        False  \n",
      "5304  False   False     False   False               False        False  \n",
      "5305  False   False     False   False               False        False  \n",
      "\n",
      "[5306 rows x 15 columns]\n",
      "\n",
      "Dropping the missing values:\n",
      "            Date      Symbol Series  Prev Close     Open     High      Low  \\\n",
      "2850  2011-06-01  ASIANPAINT     EQ     3133.40  3145.10  3194.00  3061.50   \n",
      "2851  2011-06-02  ASIANPAINT     EQ     3169.35  3159.00  3171.80  3087.00   \n",
      "2852  2011-06-03  ASIANPAINT     EQ     3105.05  3105.05  3190.00  3099.95   \n",
      "2853  2011-06-06  ASIANPAINT     EQ     3167.80  3160.20  3188.85  3141.25   \n",
      "2854  2011-06-07  ASIANPAINT     EQ     3170.05  3170.10  3229.80  3155.00   \n",
      "...          ...         ...    ...         ...      ...      ...      ...   \n",
      "5301  2021-04-26  ASIANPAINT     EQ     2517.95  2530.00  2575.00  2530.00   \n",
      "5302  2021-04-27  ASIANPAINT     EQ     2557.90  2545.00  2579.90  2534.00   \n",
      "5303  2021-04-28  ASIANPAINT     EQ     2574.35  2588.00  2620.25  2575.00   \n",
      "5304  2021-04-29  ASIANPAINT     EQ     2614.55  2630.00  2642.00  2570.00   \n",
      "5305  2021-04-30  ASIANPAINT     EQ     2613.45  2595.00  2605.80  2524.05   \n",
      "\n",
      "         Last    Close     VWAP   Volume      Turnover   Trades  \\\n",
      "2850  3170.00  3169.35  3156.21   192349  6.070944e+13  11665.0   \n",
      "2851  3110.05  3105.05  3133.25   211697  6.633002e+13   6690.0   \n",
      "2852  3181.00  3167.80  3153.77    83355  2.628821e+13   5398.0   \n",
      "2853  3169.50  3170.05  3163.77    46291  1.464539e+13   4838.0   \n",
      "2854  3196.00  3206.15  3202.18    82014  2.626232e+13   8868.0   \n",
      "...       ...      ...      ...      ...           ...      ...   \n",
      "5301  2558.00  2557.90  2557.47  1103980  2.823400e+14  58557.0   \n",
      "5302  2571.00  2574.35  2560.55   866331  2.218288e+14  66988.0   \n",
      "5303  2612.00  2614.55  2605.91  1065561  2.776752e+14  52622.0   \n",
      "5304  2613.00  2613.45  2607.33  1295346  3.377394e+14  64039.0   \n",
      "5305  2529.00  2536.40  2558.66  1384907  3.543512e+14  91934.0   \n",
      "\n",
      "      Deliverable Volume  %Deliverble  \n",
      "2850             89136.0       0.4634  \n",
      "2851            169251.0       0.7995  \n",
      "2852             45782.0       0.5492  \n",
      "2853             20367.0       0.4400  \n",
      "2854             27403.0       0.3341  \n",
      "...                  ...          ...  \n",
      "5301            335232.0       0.3037  \n",
      "5302            281178.0       0.3246  \n",
      "5303            449241.0       0.4216  \n",
      "5304            447979.0       0.3458  \n",
      "5305            750496.0       0.5419  \n",
      "\n",
      "[2456 rows x 15 columns]\n"
     ]
    }
   ],
   "source": [
    "#Bagthariya Mahek r.\n",
    "#216270307080\n",
    "#Practical No.10: Write a Pandas program to implement following operation\n",
    "#to find and drop the missing values from the given dataset\n",
    "\n",
    "import pandas as pd\n",
    "w_a_con = pd.read_csv('/kaggle/input/nifty50-stock-market-data/ASIANPAINT.csv')\n",
    "\n",
    "print(\"World alcohol consumption sample data:\")\n",
    "print(w_a_con.head())\n",
    "\n",
    "print(\"\\nMissing values:\")\n",
    "print(w_a_con.isnull())\n",
    "\n",
    "print(\"\\nDropping the missing values:\")\n",
    "print(w_a_con.dropna())"
   ]
  },
  {
   "cell_type": "code",
   "execution_count": 2,
   "id": "5f68dbb6",
   "metadata": {
    "execution": {
     "iopub.execute_input": "2023-10-06T06:44:05.185614Z",
     "iopub.status.busy": "2023-10-06T06:44:05.184817Z",
     "iopub.status.idle": "2023-10-06T06:44:05.204987Z",
     "shell.execute_reply": "2023-10-06T06:44:05.203685Z"
    },
    "papermill": {
     "duration": 0.025755,
     "end_time": "2023-10-06T06:44:05.207000",
     "exception": false,
     "start_time": "2023-10-06T06:44:05.181245",
     "status": "completed"
    },
    "tags": []
   },
   "outputs": [
    {
     "name": "stdout",
     "output_type": "stream",
     "text": [
      "     name  age\n",
      "0   mahek   80\n",
      "1  Dhruvi   90\n",
      "2     jal   82\n",
      "3  kinjal   91\n",
      "4   mahek   80\n",
      "\n",
      "     name  age\n",
      "0   mahek   80\n",
      "1  Dhruvi   90\n",
      "2     jal   82\n",
      "3  kinjal   91\n"
     ]
    }
   ],
   "source": [
    "#Bagthariya Mahek r.\n",
    "#216270307080\n",
    "#Practical No.10: Write a Pandas program to implement following operation\n",
    "# to remove the duplicates from the given dataset\n",
    "\n",
    "import pandas as pd\n",
    "data = { \"name\": [\"mahek\", \"Dhruvi\", \"jal\", \"kinjal\",\"mahek\"], \"age\": [80, 90, 82, 91, 80] }\n",
    "\n",
    "df = pd.DataFrame(data)\n",
    "newdf = df.drop_duplicates()\n",
    "print(df)\n",
    "print()\n",
    "print(newdf)"
   ]
  }
 ],
 "metadata": {
  "kernelspec": {
   "display_name": "Python 3",
   "language": "python",
   "name": "python3"
  },
  "language_info": {
   "codemirror_mode": {
    "name": "ipython",
    "version": 3
   },
   "file_extension": ".py",
   "mimetype": "text/x-python",
   "name": "python",
   "nbconvert_exporter": "python",
   "pygments_lexer": "ipython3",
   "version": "3.10.12"
  },
  "papermill": {
   "default_parameters": {},
   "duration": 3.311362,
   "end_time": "2023-10-06T06:44:05.628390",
   "environment_variables": {},
   "exception": null,
   "input_path": "__notebook__.ipynb",
   "output_path": "__notebook__.ipynb",
   "parameters": {},
   "start_time": "2023-10-06T06:44:02.317028",
   "version": "2.4.0"
  }
 },
 "nbformat": 4,
 "nbformat_minor": 5
}
