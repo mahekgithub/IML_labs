{
 "cells": [
  {
   "cell_type": "code",
   "execution_count": 1,
   "id": "16899d73",
   "metadata": {
    "_cell_guid": "b1076dfc-b9ad-4769-8c92-a6c4dae69d19",
    "_uuid": "8f2839f25d086af736a60e9eeb907d3b93b6e0e5",
    "execution": {
     "iopub.execute_input": "2023-11-06T07:46:56.869980Z",
     "iopub.status.busy": "2023-11-06T07:46:56.869051Z",
     "iopub.status.idle": "2023-11-06T07:46:58.405138Z",
     "shell.execute_reply": "2023-11-06T07:46:58.404223Z"
    },
    "papermill": {
     "duration": 1.541549,
     "end_time": "2023-11-06T07:46:58.407488",
     "exception": false,
     "start_time": "2023-11-06T07:46:56.865939",
     "status": "completed"
    },
    "tags": []
   },
   "outputs": [
    {
     "name": "stdout",
     "output_type": "stream",
     "text": [
      "Accuracy of the K-NN classifier with k=3: 100.00%\n"
     ]
    }
   ],
   "source": [
    "#Bagthariya Mahek \n",
    "#216270307080\n",
    "#Practical No.13: Write a Python program to implement K-Nearest Neighbour supervised machine learning algorithm for given dataset.\n",
    "\n",
    "from sklearn import datasets\n",
    "from sklearn.model_selection import train_test_split\n",
    "from sklearn.neighbors import KNeighborsClassifier\n",
    "from sklearn.metrics import accuracy_score\n",
    "\n",
    "iris = datasets.load_iris()\n",
    "X = iris.data  \n",
    "y = iris.target  \n",
    "\n",
    "X_train, X_test, y_train, y_test = train_test_split(X, y, test_size=0.2, random_state=42)\n",
    "\n",
    "k = 3  \n",
    "knn_classifier = KNeighborsClassifier(n_neighbors=k)\n",
    "knn_classifier.fit(X_train, y_train)\n",
    "\n",
    "y_pred = knn_classifier.predict(X_test)\n",
    "\n",
    "accuracy = accuracy_score(y_test, y_pred)\n",
    "print(f\"Accuracy of the K-NN classifier with k={k}: {accuracy * 100:.2f}%\")"
   ]
  },
  {
   "cell_type": "code",
   "execution_count": null,
   "id": "124cbfd7",
   "metadata": {
    "papermill": {
     "duration": 0.002746,
     "end_time": "2023-11-06T07:46:58.411915",
     "exception": false,
     "start_time": "2023-11-06T07:46:58.409169",
     "status": "completed"
    },
    "tags": []
   },
   "outputs": [],
   "source": []
  }
 ],
 "metadata": {
  "kernelspec": {
   "display_name": "Python 3",
   "language": "python",
   "name": "python3"
  },
  "language_info": {
   "codemirror_mode": {
    "name": "ipython",
    "version": 3
   },
   "file_extension": ".py",
   "mimetype": "text/x-python",
   "name": "python",
   "nbconvert_exporter": "python",
   "pygments_lexer": "ipython3",
   "version": "3.10.12"
  },
  "papermill": {
   "default_parameters": {},
   "duration": 4.743892,
   "end_time": "2023-11-06T07:46:58.836122",
   "environment_variables": {},
   "exception": null,
   "input_path": "__notebook__.ipynb",
   "output_path": "__notebook__.ipynb",
   "parameters": {},
   "start_time": "2023-11-06T07:46:54.092230",
   "version": "2.4.0"
  }
 },
 "nbformat": 4,
 "nbformat_minor": 5
}
